{
 "cells": [
  {
   "cell_type": "markdown",
   "metadata": {},
   "source": [
    "# Exercise 1\n",
    "\n",
    "Create a function that will take in a list. It should sum up all the values of the integers in the list. Non-Integers should not be included in the sum."
   ]
  },
  {
   "cell_type": "code",
   "execution_count": 10,
   "metadata": {},
   "outputs": [
    {
     "name": "stdout",
     "output_type": "stream",
     "text": [
      "Correct\n"
     ]
    }
   ],
   "source": [
    "def get_sum(some_list):\n",
    "    sum = 0\n",
    "    for item in some_list:\n",
    "        if type(item) == int:\n",
    "            sum+=item\n",
    "    return sum\n",
    "\n",
    "\n",
    "\n",
    "\n",
    "\n",
    "\n",
    "try:\n",
    "    assert( get_sum([1,2,3,4,5]) == 15)\n",
    "    assert( get_sum([1,2,3,4,5,\"a\"]) == 15)\n",
    "    assert( get_sum([1,2,3,4,-5,\"a\",100,6,\"b\",5]) == 116)\n",
    "    print(\"Correct\")\n",
    "except AssertionError:\n",
    "    print(\"Incorrect\")"
   ]
  },
  {
   "cell_type": "markdown",
   "metadata": {},
   "source": [
    "# Exercise 2\n",
    "\n",
    "Create a function that will take any amount of arguments. It should return a dictionary whoose key,value pairs should be a string that refers to the type of the object, along with the count of the object. For this exercise, your function should only need to handle 3 types, Bools, Ints, and Strings, it should ignore the rest.\n",
    "\n",
    "\n",
    "\n",
    "    EX.\n",
    "\n",
    "    input:\n",
    "    [\"hello\",1,2,3,True]\n",
    "\n",
    "\n",
    "    output:\n",
    "    {\"strings\":1,\"ints\":3,\"booleans\":1}\n",
    "\n",
    "    input:\n",
    "    [1,2,3,4,5]\n",
    "    \n",
    "    output:\n",
    "    {\"strings\":0,\"ints\":5,\"booleans\":0}"
   ]
  },
  {
   "cell_type": "code",
   "execution_count": 14,
   "metadata": {},
   "outputs": [],
   "source": [
    "def get_counts(*some_list):\n",
    "    \n",
    "    count_of_int = 0\n",
    "    count_of_strings = 0\n",
    "    count_of_booleans = 0\n",
    "\n",
    "    for item in some_list:\n",
    "        if type(item) == str:\n",
    "            count_of_strings += 1\n",
    "        elif type(item) == bool:\n",
    "            count_of_booleans+=1\n",
    "        elif type(item) == int:\n",
    "            count_of_int +=1            \n",
    "    dict_to_return = {}\n",
    "\n",
    "    dict_to_return[\"strings\"] = count_of_strings\n",
    "    dict_to_return[\"booleans\"] = count_of_booleans\n",
    "    dict_to_return[\"integers\"] = count_of_int\n",
    "\n",
    "    return dict_to_return\n",
    "\n"
   ]
  },
  {
   "cell_type": "markdown",
   "metadata": {},
   "source": [
    "# Exercise 3\n",
    "\n",
    "Using List Comprehension, create a list that contains all of the numbers between 1 and 100 that are divisible by 3 and 5."
   ]
  },
  {
   "cell_type": "code",
   "execution_count": 17,
   "metadata": {},
   "outputs": [
    {
     "data": {
      "text/plain": [
       "[15, 30, 45, 60, 75, 90]"
      ]
     },
     "execution_count": 17,
     "metadata": {},
     "output_type": "execute_result"
    }
   ],
   "source": [
    "x = [i for i in range(1,100) if i%15==0]\n",
    "x"
   ]
  },
  {
   "cell_type": "markdown",
   "metadata": {},
   "source": [
    "# Exercise 4\n",
    "\n",
    "Using the Base Class Person, create a Child Class Adult that inherits from the child class, but takes in an extra argument called career.\n",
    "\n",
    "    Override the print_me() method in the Adult class so that it prints \n",
    "    \"My name is {name} and I work as a {career}\"."
   ]
  },
  {
   "cell_type": "code",
   "execution_count": 19,
   "metadata": {},
   "outputs": [],
   "source": [
    "class Person():\n",
    "    def __init__(self,name,age):\n",
    "        self.name = name\n",
    "        self.age = age\n",
    "\n",
    "    def print_me(self):\n",
    "        print(f\"Hello my name is {self.name}\")\n",
    "\n",
    "\n",
    "class Adult(Person):\n",
    "\n",
    "    def __init__(self,name,age,career):\n",
    "        super().__init__(name,age)\n",
    "        self.career = career\n",
    "    \n",
    "    def print_me(self):\n",
    "        print(f'Hello my name is {self.name} and I work as a {self.career}')"
   ]
  },
  {
   "cell_type": "markdown",
   "metadata": {},
   "source": [
    "# Exercise 5\n",
    "    Create a function that takes in a string. The function should return the string reversed.\n",
    "    You can use any solution except for the reveresed function.\n",
    "\n",
    "    "
   ]
  },
  {
   "cell_type": "code",
   "execution_count": 23,
   "metadata": {},
   "outputs": [
    {
     "name": "stdout",
     "output_type": "stream",
     "text": [
      "Correct\n"
     ]
    }
   ],
   "source": [
    "def reverse_string(some_string):\n",
    "    return some_string[::-1]\n",
    "\n",
    "try:\n",
    "    assert(reverse_string(\"Hello\") == \"olleH\")\n",
    "    assert(reverse_string(\"ABBA\") == \"ABBA\")\n",
    "    assert(reverse_string(\"Wowza\") == \"azwoW\")\n",
    "    print(\"Correct\")\n",
    "except AssertionError:\n",
    "    print(\"Incorrect\")"
   ]
  }
 ],
 "metadata": {
  "interpreter": {
   "hash": "6b8157b6fa1ebbaed96c1c1d9635dcd49016c43deea78ac8da8888d62b60131e"
  },
  "kernelspec": {
   "display_name": "Python 3.9.1 64-bit",
   "language": "python",
   "name": "python3"
  },
  "language_info": {
   "codemirror_mode": {
    "name": "ipython",
    "version": 3
   },
   "file_extension": ".py",
   "mimetype": "text/x-python",
   "name": "python",
   "nbconvert_exporter": "python",
   "pygments_lexer": "ipython3",
   "version": "3.9.1"
  },
  "orig_nbformat": 4
 },
 "nbformat": 4,
 "nbformat_minor": 2
}
