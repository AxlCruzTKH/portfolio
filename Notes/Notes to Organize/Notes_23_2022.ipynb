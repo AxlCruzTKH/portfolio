{
 "cells": [
  {
   "cell_type": "markdown",
   "id": "67b0fdfa",
   "metadata": {},
   "source": [
    "# Linear Algebra"
   ]
  },
  {
   "cell_type": "markdown",
   "id": "3e889f3b",
   "metadata": {},
   "source": [
    "# What does Linear Algebra look to do?"
   ]
  },
  {
   "cell_type": "markdown",
   "id": "348f7e6c",
   "metadata": {},
   "source": [
    "    It's a system that helps us solve n linear equations.\n",
    "    It helps us represent lines and objects in higher dimensional space.\n",
    "    "
   ]
  },
  {
   "cell_type": "markdown",
   "id": "6379b7f6",
   "metadata": {},
   "source": [
    "# Basics "
   ]
  },
  {
   "cell_type": "markdown",
   "id": "85d01736",
   "metadata": {},
   "source": [
    "    Lines are Scalar. They contain magnitude, but not direction.\n",
    "    Speed is Scalar\n",
    "    \n",
    "    Vectors are said to have a direction in addition to their magnitude,\n",
    "    Velocity is a Vector.\n",
    "    \n",
    "    \n",
    "    "
   ]
  },
  {
   "cell_type": "code",
   "execution_count": null,
   "id": "4dcd9daa",
   "metadata": {},
   "outputs": [],
   "source": []
  }
 ],
 "metadata": {
  "kernelspec": {
   "display_name": "Python 3",
   "language": "python",
   "name": "python3"
  },
  "language_info": {
   "codemirror_mode": {
    "name": "ipython",
    "version": 3
   },
   "file_extension": ".py",
   "mimetype": "text/x-python",
   "name": "python",
   "nbconvert_exporter": "python",
   "pygments_lexer": "ipython3",
   "version": "3.9.1"
  }
 },
 "nbformat": 4,
 "nbformat_minor": 5
}
