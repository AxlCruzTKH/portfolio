{
 "cells": [
  {
   "cell_type": "code",
   "execution_count": 1,
   "metadata": {},
   "outputs": [
    {
     "ename": "ModuleNotFoundError",
     "evalue": "No module named 'matplotlib'",
     "output_type": "error",
     "traceback": [
      "\u001b[1;31m---------------------------------------------------------------------------\u001b[0m",
      "\u001b[1;31mModuleNotFoundError\u001b[0m                       Traceback (most recent call last)",
      "\u001b[1;32m<ipython-input-1-a0d2faabd9e9>\u001b[0m in \u001b[0;36m<module>\u001b[1;34m\u001b[0m\n\u001b[1;32m----> 1\u001b[1;33m \u001b[1;32mimport\u001b[0m \u001b[0mmatplotlib\u001b[0m\u001b[1;33m.\u001b[0m\u001b[0mpyplot\u001b[0m \u001b[1;32mas\u001b[0m \u001b[0mplt\u001b[0m\u001b[1;33m\u001b[0m\u001b[1;33m\u001b[0m\u001b[0m\n\u001b[0m",
      "\u001b[1;31mModuleNotFoundError\u001b[0m: No module named 'matplotlib'"
     ]
    }
   ],
   "source": [
    "import matplotlib.pyplot as plt"
   ]
  },
  {
   "cell_type": "code",
   "execution_count": 4,
   "metadata": {},
   "outputs": [
    {
     "name": "stdout",
     "output_type": "stream",
     "text": [
      "[1, 2, 3, 4, 5, 6, 7, 8, 9, 10, 11, 12, 13, 14, 15, 16, 17, 18, 19, 20, 21, 22, 23, 24, 25, 26, 27, 28, 29, 30, 31, 32, 33, 34, 35, 36, 37, 38, 39, 40, 41, 42, 43, 44, 45, 46, 47, 48, 49, 50, 51, 52, 53, 54, 55, 56, 57, 58, 59, 60, 61, 62, 63, 64, 65, 66, 67, 68, 69, 70, 71, 72, 73, 74, 75, 76, 77, 78, 79, 80, 81, 82, 83, 84, 85, 86, 87, 88, 89, 90, 91, 92, 93, 94, 95, 96, 97, 98, 99, 100]\n"
     ]
    }
   ],
   "source": [
    "#Code to make an Array N long.\n",
    "\n",
    "\n",
    "def makeArray(n):\n",
    "    count = 1\n",
    "    sorted_array = []\n",
    "    while count <= n:\n",
    "        sorted_array.append(count)\n",
    "        count+=1\n",
    "    return sorted_array\n",
    "\n",
    "test_array = makeArray(100)\n",
    "print(test_array)\n"
   ]
  },
  {
   "cell_type": "code",
   "execution_count": 21,
   "metadata": {},
   "outputs": [],
   "source": [
    "# What is the runtime for the WORST CASE scenario?\n",
    "# What is the \"worst scenario case\"\n",
    "# The worst scenario is --- the last element we check, is the element we are looking for.\n",
    "# If we are doing a \"normal\" search, that means that we have to check every element\n",
    "# That means we have to run our \"check\" N times. \n",
    "#     ----> Our \"check\" is, see if our current value is equal to our target value.\n",
    "#     ----> N is the length of our Array.\n"
   ]
  },
  {
   "cell_type": "code",
   "execution_count": 6,
   "metadata": {},
   "outputs": [],
   "source": [
    "\n",
    "def find_match(arr,target_value):\n",
    "    count = 0  # This starts our search at index 0\n",
    "\n",
    "    search_space = len(arr)-1\n",
    "     # This sets our max value to the length of the index -1, because \n",
    "     # a list of 100 elements, has indexes of 0-99 (remember 0 is always first)\n",
    "\n",
    "    index_of_match = None \n",
    "    # Our default case. We assume there is no match.\n",
    "\n",
    "    while count <= search_space: \n",
    "        # Our loop. It runs between 0 and the length of the array - 1 \n",
    "        #This allows us to check every value at every index.\n",
    "\n",
    "        if arr[count] == target_value:\n",
    "        #check to see if the value of the element at index count is equal to the target value.\n",
    "\n",
    "            index_of_match = count\n",
    "            break\n",
    "            #if this is true, it's going to set that index_of_match equal to the current count\n",
    "            #and it's going to break out of the loop.\n",
    "        count+=1\n",
    "        #if a match is not found, check the next element in the array.\n",
    "    print(f\"The index of the element is {index_of_match}\")\n",
    "    #prints the index of the matched element.\n"
   ]
  },
  {
   "cell_type": "code",
   "execution_count": 8,
   "metadata": {},
   "outputs": [
    {
     "name": "stdout",
     "output_type": "stream",
     "text": [
      "The index of the element is 54\n",
      "The index of the element is None\n",
      "The index of the element is 0\n",
      "The index of the element is 21\n",
      "The index of the element is None\n",
      "[1]\n"
     ]
    }
   ],
   "source": [
    "test_array = makeArray(100)\n",
    "find_match(test_array,55)\n",
    "find_match(test_array,0)\n",
    "find_match(test_array,1)\n",
    "find_match(test_array,22)\n",
    "find_match(test_array,101)\n",
    "\n",
    "test_array = makeArray(1)\n",
    "print(test_array)"
   ]
  },
  {
   "cell_type": "code",
   "execution_count": null,
   "metadata": {},
   "outputs": [],
   "source": [
    "size_of_the_array = []\n",
    "time = []\n",
    "\n",
    "def make_graph(amount_to_test):\n",
    "count = 0\n",
    "while count <"
   ]
  }
 ],
 "metadata": {
  "interpreter": {
   "hash": "6b8157b6fa1ebbaed96c1c1d9635dcd49016c43deea78ac8da8888d62b60131e"
  },
  "kernelspec": {
   "display_name": "Python 3.9.1 64-bit",
   "language": "python",
   "name": "python3"
  },
  "language_info": {
   "codemirror_mode": {
    "name": "ipython",
    "version": 3
   },
   "file_extension": ".py",
   "mimetype": "text/x-python",
   "name": "python",
   "nbconvert_exporter": "python",
   "pygments_lexer": "ipython3",
   "version": "3.9.1"
  },
  "orig_nbformat": 4
 },
 "nbformat": 4,
 "nbformat_minor": 2
}
