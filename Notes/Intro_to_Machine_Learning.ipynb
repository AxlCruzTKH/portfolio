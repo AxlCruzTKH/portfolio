{
 "cells": [
  {
   "cell_type": "markdown",
   "id": "b973148b",
   "metadata": {},
   "source": [
    "# What is and isn't Machine Learning?\n"
   ]
  },
  {
   "cell_type": "markdown",
   "id": "970e099b",
   "metadata": {},
   "source": [
    "    The definition for machine learning isn't something that is set in stone. \n",
    "    A good starting place might be its roots.\n",
    "    \n",
    "    \n",
    "    \n",
    "    The term was coined in 1959 by Arthur Samuel, a pioneer in the field of ML. \n",
    "    \n",
    "    He had developed an algorithm which was able to play a game of checkers. \n",
    "    \n",
    "    He himself was not very good at checkers,\n",
    "    but he was able to develop an algorithm would could analyze board states and then make a decision based of an analysis of the current board position, on where to move a game piece. This algorithm was able to beat him and eventually, beat amateur players.\n",
    "    \n",
    "    Why?\n",
    "    \n",
    "    The upside was that his algorithm could plays thousands of games. A human might be able to play that many games, but not within the same ime period, and not every human has the patience to play thousands upon thousands of games. He was able to use computers to simulate a game, and then run his algorithm over and over again, to see more board states, and to \"learn\" what was a good move and what wasn't.\n",
    "    \n",
    "    \n",
    "    This started a movement in computer science. What else can be \"taught\" to a computer? What can humans program a computer to do? The answer ended up being, almost everything.\n",
    "    \n",
    "    \n",
    "    \n",
    "    Now, a more formal definition of Machine Learning. This definition is supplied by Tom M. Mitchell.\n",
    "    \n",
    "    The definition is as follows,\n",
    "    \n",
    "    \"A computer program is said to learn from experience E with respect to some class of tasks T and performance measure P if its performance at tasks in T, as measured by P, improves with experience E.\"\n",
    "    \n",
    "    This is to say, that as we feed in some information (E), the computer can execute some task (T), and the performance of its execution can be measured by some statistic (P). As we give it more information (E) the performance measure (P) with regards to the task (T) should improve."
   ]
  },
  {
   "cell_type": "markdown",
   "id": "28ae317c",
   "metadata": {},
   "source": [
    "# The two types of Machine Learning"
   ]
  },
  {
   "cell_type": "markdown",
   "id": "a3a90b7c",
   "metadata": {},
   "source": [
    "    In the field of ML there are two types of ML. \n",
    "    \n",
    "    The two types are Supervised Learning and Unsupervised learning. In reality, there are more than two, such as reinforcement learning, but during this course, we are going to be focused on Supervised and Unsupervised learning.\n",
    "    \n",
    "    \n",
    "    What is the difference between these two types of Machine Learning?\n",
    "    \n",
    "    The difference lies in how the algorithm is said to learn.\n",
    "    "
   ]
  },
  {
   "cell_type": "markdown",
   "id": "904b22a9",
   "metadata": {},
   "source": [
    "# Supervised Learning"
   ]
  },
  {
   "cell_type": "markdown",
   "id": "d886a069",
   "metadata": {},
   "source": [
    "    In supervised learning, the algorithms are given data sets with labels.\n",
    "    We are said to be teaching the algorithm to do something.\n",
    "    The algorithm is explicitly told things about the data.\n",
    "    There are two general types of Supervised Learning Algorithms.\n",
    "    They are algorithms that deal with Regression, and problems that deal with Classification.\n",
    "    "
   ]
  },
  {
   "cell_type": "markdown",
   "id": "244f3ae0",
   "metadata": {},
   "source": [
    "### An example of supervised learning (Regression Example)"
   ]
  },
  {
   "cell_type": "markdown",
   "id": "fa4de2ae",
   "metadata": {},
   "source": [
    "    Predicting the value that a house could sell for using previous data."
   ]
  },
  {
   "cell_type": "markdown",
   "id": "5ab78fc6",
   "metadata": {},
   "source": [
    "### An example of supervised learning (Classification)"
   ]
  },
  {
   "cell_type": "markdown",
   "id": "60642bdb",
   "metadata": {},
   "source": [
    "    Predicting whether or not a cancer is tumerous based off the size.\n",
    "    (Show how the system can be a binary output, or have more than 2 outputs)"
   ]
  },
  {
   "cell_type": "markdown",
   "id": "f48a756d",
   "metadata": {},
   "source": [
    "#### Question\n",
    "    What are the differences between these two systems? Why are these two seperate groups?\n",
    "        \n",
    "        A) Regression deals with predicting continous value output (Real Systems)\n",
    "        B) Classification deals with Discrete Valued Systems (Not necessarily binary output)"
   ]
  },
  {
   "cell_type": "markdown",
   "id": "56fb3844",
   "metadata": {},
   "source": [
    "## Unsupervised Learning"
   ]
  },
  {
   "cell_type": "markdown",
   "id": "608fd53f",
   "metadata": {},
   "source": [
    "    In unsupervised learning, the algorithms are given data without labels.\n",
    "    We feed the data set through an algorithm, and we have the algorithm teach itself something about the data.\n",
    "    In this type of Machine Learning there are 2 types of algorithms,\n",
    "    Algorithms that deal with Association, and algorithms that deal with Clustering."
   ]
  },
  {
   "cell_type": "markdown",
   "id": "757e43cc",
   "metadata": {},
   "source": [
    "### An example of clustering "
   ]
  },
  {
   "cell_type": "markdown",
   "id": "572e6d38",
   "metadata": {},
   "source": [
    "    In marketing analysis clustering is extremely important for something called Market(Customer) Segmentation."
   ]
  },
  {
   "cell_type": "markdown",
   "id": "04d0b5bd",
   "metadata": {},
   "source": [
    "### An example of Association"
   ]
  },
  {
   "cell_type": "markdown",
   "id": "eba15dd8",
   "metadata": {},
   "source": [
    "    In developing a supermarket you set up an algorithm that tracks commonly bought items together. You see that when a customer\n",
    "    buys onions and potatoes, that there is a high likelihood that they will buy hamburger meat. This information can then be\n",
    "    used to influence your decisions as to location of certain products in one location vs another and even what groups of items\n",
    "    should go on sale together."
   ]
  }
 ],
 "metadata": {
  "kernelspec": {
   "display_name": "Python 3",
   "language": "python",
   "name": "python3"
  },
  "language_info": {
   "codemirror_mode": {
    "name": "ipython",
    "version": 3
   },
   "file_extension": ".py",
   "mimetype": "text/x-python",
   "name": "python",
   "nbconvert_exporter": "python",
   "pygments_lexer": "ipython3",
   "version": "3.9.1"
  }
 },
 "nbformat": 4,
 "nbformat_minor": 5
}
